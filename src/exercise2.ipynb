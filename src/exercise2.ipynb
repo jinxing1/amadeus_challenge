{
 "cells": [
  {
   "cell_type": "markdown",
   "metadata": {},
   "source": [
    "# find out the top 10 arrival airports in the world in 2013 (using the bookings file)"
   ]
  },
  {
   "cell_type": "code",
   "execution_count": 11,
   "metadata": {
    "collapsed": false
   },
   "outputs": [
    {
     "name": "stdout",
     "output_type": "stream",
     "text": [
      "            pax\n",
      "arr_port       \n",
      "LHR       88809\n",
      "MCO       70930\n",
      "LAX       70530\n",
      "LAS       69630\n",
      "JFK       66270\n",
      "CDG       64490\n",
      "BKK       59460\n",
      "MIA       58150\n",
      "SFO       58000\n",
      "DXB       55590\n"
     ]
    }
   ],
   "source": [
    "import pandas as pd\n",
    "\n",
    "def get_top_arrival_airports(path, delim, nbAirport):\n",
    "    \"\"\"\n",
    "    This functions looks for top 10 arrival airports in the world in a certain year\n",
    "    \n",
    "    Args:\n",
    "        path(String): path where the csv file is stored\n",
    "        delim(String): deliminator\n",
    "        nbAirport(int): number of top arrival airports\n",
    "    Returns:\n",
    "        pax_count(int): number indicates the number of lines for a csv file\n",
    "    \"\"\"\n",
    "    chunksize = 10 ** 6\n",
    "\n",
    "    chunks = pd.read_table(path, chunksize=chunksize, sep=delim, header=0, usecols = ['arr_port', 'pax'])\n",
    "    df = pd.DataFrame()\n",
    "    df = pd.concat(chunks, ignore_index=True)\n",
    "    pax_count = df.groupby('arr_port').aggregate(sum)\n",
    "    pax_count = pax_count.sort(columns=['pax'], ascending = False)\n",
    "    return pax_count[0:nbAirport]\n",
    "\n",
    "top_10_arrival_airports = get_top_arrival_airports(\"../data/bookings.csv\", \"^\", 10)\n",
    "print top_10_arrival_airports"
   ]
  },
  {
   "cell_type": "code",
   "execution_count": 32,
   "metadata": {
    "collapsed": false
   },
   "outputs": [],
   "source": [
    "# initialse GeoBases object\n",
    "from GeoBases import GeoBase\n",
    "geo_o = GeoBase(data='ori_por', verbose=False)"
   ]
  },
  {
   "cell_type": "code",
   "execution_count": 34,
   "metadata": {
    "collapsed": false
   },
   "outputs": [
    {
     "data": {
      "text/plain": [
       "'Madrid / Barajas'"
      ]
     },
     "execution_count": 34,
     "metadata": {},
     "output_type": "execute_result"
    }
   ],
   "source": [
    "geo_o.get('MAD', 'name')"
   ]
  },
  {
   "cell_type": "code",
   "execution_count": 38,
   "metadata": {
    "collapsed": false
   },
   "outputs": [
    {
     "data": {
      "text/html": [
       "<div>\n",
       "<table border=\"1\" class=\"dataframe\">\n",
       "  <thead>\n",
       "    <tr style=\"text-align: right;\">\n",
       "      <th></th>\n",
       "      <th>pax</th>\n",
       "      <th>airport_name</th>\n",
       "    </tr>\n",
       "    <tr>\n",
       "      <th>arr_port</th>\n",
       "      <th></th>\n",
       "      <th></th>\n",
       "    </tr>\n",
       "  </thead>\n",
       "  <tbody>\n",
       "    <tr>\n",
       "      <th>LHR</th>\n",
       "      <td>88809</td>\n",
       "      <td>London Heathrow Airport</td>\n",
       "    </tr>\n",
       "    <tr>\n",
       "      <th>MCO</th>\n",
       "      <td>70930</td>\n",
       "      <td>Orlando International Airport</td>\n",
       "    </tr>\n",
       "    <tr>\n",
       "      <th>LAX</th>\n",
       "      <td>70530</td>\n",
       "      <td>Los Angeles International Airport</td>\n",
       "    </tr>\n",
       "    <tr>\n",
       "      <th>LAS</th>\n",
       "      <td>69630</td>\n",
       "      <td>Mc Carran International Airport</td>\n",
       "    </tr>\n",
       "    <tr>\n",
       "      <th>JFK</th>\n",
       "      <td>66270</td>\n",
       "      <td>John F Kennedy International Airport</td>\n",
       "    </tr>\n",
       "    <tr>\n",
       "      <th>CDG</th>\n",
       "      <td>64490</td>\n",
       "      <td>Paris - Charles-de-Gaulle</td>\n",
       "    </tr>\n",
       "    <tr>\n",
       "      <th>BKK</th>\n",
       "      <td>59460</td>\n",
       "      <td>Suvarnabhumi</td>\n",
       "    </tr>\n",
       "    <tr>\n",
       "      <th>MIA</th>\n",
       "      <td>58150</td>\n",
       "      <td>Miami International Airport</td>\n",
       "    </tr>\n",
       "    <tr>\n",
       "      <th>SFO</th>\n",
       "      <td>58000</td>\n",
       "      <td>San Francisco International Airport</td>\n",
       "    </tr>\n",
       "    <tr>\n",
       "      <th>DXB</th>\n",
       "      <td>55590</td>\n",
       "      <td>Dubai International Airport</td>\n",
       "    </tr>\n",
       "  </tbody>\n",
       "</table>\n",
       "</div>"
      ],
      "text/plain": [
       "            pax                          airport_name\n",
       "arr_port                                             \n",
       "LHR       88809               London Heathrow Airport\n",
       "MCO       70930         Orlando International Airport\n",
       "LAX       70530     Los Angeles International Airport\n",
       "LAS       69630       Mc Carran International Airport\n",
       "JFK       66270  John F Kennedy International Airport\n",
       "CDG       64490             Paris - Charles-de-Gaulle\n",
       "BKK       59460                          Suvarnabhumi\n",
       "MIA       58150           Miami International Airport\n",
       "SFO       58000   San Francisco International Airport\n",
       "DXB       55590           Dubai International Airport"
      ]
     },
     "execution_count": 38,
     "metadata": {},
     "output_type": "execute_result"
    }
   ],
   "source": [
    "top_10_arrival_airports['airport_name'] = top_10_arrival_airports.index.map(lambda x: geo_o.get(x.strip(), 'name'))\n",
    "top_10_arrival_airports"
   ]
  }
 ],
 "metadata": {
  "kernelspec": {
   "display_name": "Python 2",
   "language": "python",
   "name": "python2"
  },
  "language_info": {
   "codemirror_mode": {
    "name": "ipython",
    "version": 2
   },
   "file_extension": ".py",
   "mimetype": "text/x-python",
   "name": "python",
   "nbconvert_exporter": "python",
   "pygments_lexer": "ipython2",
   "version": "2.7.10"
  }
 },
 "nbformat": 4,
 "nbformat_minor": 0
}

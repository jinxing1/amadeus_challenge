{
 "cells": [
  {
   "cell_type": "markdown",
   "metadata": {},
   "source": [
    "# find out the top 10 arrival airports in the world in 2013 (using the bookings file)"
   ]
  },
  {
   "cell_type": "code",
   "execution_count": null,
   "metadata": {
    "collapsed": true
   },
   "outputs": [],
   "source": [
    "import pandas as pd\n",
    "\n",
    "def get_top_arrival_airports(path, delim, nbAirport):\n",
    "    \"\"\"\n",
    "    This functions looks for top 10 arrival airports in the world in a certain year\n",
    "    \n",
    "    Args:\n",
    "        path(String): path where the csv file is stored\n",
    "        delim(String): deliminator\n",
    "        nbAirport(int): number of top arrival airports\n",
    "    Returns:\n",
    "        pax_count(int): number indicates the number of lines for a csv file\n",
    "    \"\"\"\n",
    "    chunksize = 10 ** 6\n",
    "\n",
    "    chunks = pd.read_table(path, chunksize=chunksize, sep=delim, header=0, usecols = ['arr_port', 'pax'])\n",
    "    df = pd.DataFrame()\n",
    "    df = pd.concat(chunks, ignore_index=True)\n",
    "    pax_count = chunk.groupby('arr_port').aggregate(sum)\n",
    "    pax_count = pax_count.sort(columns=['pax'], ascending = False)\n",
    "    return pax_count[0:nbAirport]\n",
    "\n",
    "top_10_arrival_airports = get_top_arrival_airports(\"../data/bookings.csv\", \"^\", 10)\n",
    "print top_10_arrival_airports"
   ]
  }
 ],
 "metadata": {
  "kernelspec": {
   "display_name": "Python 2",
   "language": "python",
   "name": "python2"
  },
  "language_info": {
   "codemirror_mode": {
    "name": "ipython",
    "version": 2
   },
   "file_extension": ".py",
   "mimetype": "text/x-python",
   "name": "python",
   "nbconvert_exporter": "python",
   "pygments_lexer": "ipython2",
   "version": "2.7.9"
  }
 },
 "nbformat": 4,
 "nbformat_minor": 0
}

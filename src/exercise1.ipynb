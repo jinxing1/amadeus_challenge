{
 "cells": [
  {
   "cell_type": "markdown",
   "metadata": {},
   "source": [
    "# Count the number of lines in Python for each file"
   ]
  },
  {
   "cell_type": "code",
   "execution_count": 31,
   "metadata": {
    "collapsed": false
   },
   "outputs": [
    {
     "name": "stdout",
     "output_type": "stream",
     "text": [
      "Number of lines in bookings.csv: 10000010\n",
      "Number of lines in searches.csv: 20390198\n"
     ]
    }
   ],
   "source": [
    "import csv\n",
    "\n",
    "def count_lines(path, delim):\n",
    "    \"\"\"\n",
    "    This functions counts the number of lines for a csv file (we assume that the first line is header)\n",
    "    \n",
    "    Args:\n",
    "        path(String): path where the csv file is stored\n",
    "        delim(String): deliminator\n",
    "    Returns:\n",
    "        line_count(int): number indicates the number of lines for a csv file\n",
    "    \"\"\"\n",
    "    f = open(path, 'rb')\n",
    "    raw_data = csv.reader(f, delimiter=delim)\n",
    "    header = raw_data.next()\n",
    "    line_count = sum(1 for row in raw_data)\n",
    "    f.close()\n",
    "    return line_count\n",
    "\n",
    "nb_lines_b = count_lines('../data/bookings.csv', \"^\")\n",
    "nb_lines_s = count_lines('../data/searches.csv', \"^\")\n",
    "\n",
    "print \"Number of lines in bookings.csv: \" + str(nb_lines_b)\n",
    "print \"Number of lines in searches.csv: \" + str(nb_lines_s)\n",
    "\n"
   ]
  }
 ],
 "metadata": {
  "kernelspec": {
   "display_name": "Python 2",
   "language": "python",
   "name": "python2"
  },
  "language_info": {
   "codemirror_mode": {
    "name": "ipython",
    "version": 2
   },
   "file_extension": ".py",
   "mimetype": "text/x-python",
   "name": "python",
   "nbconvert_exporter": "python",
   "pygments_lexer": "ipython2",
   "version": "2.7.9"
  }
 },
 "nbformat": 4,
 "nbformat_minor": 0
}
